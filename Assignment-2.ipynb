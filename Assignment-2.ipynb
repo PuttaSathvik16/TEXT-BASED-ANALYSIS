{
 "cells": [
  {
   "cell_type": "markdown",
   "id": "3bc7f9ae-1446-47ed-91d6-d87a5021923e",
   "metadata": {},
   "source": [
    "## Loading the dataset"
   ]
  },
  {
   "cell_type": "code",
   "execution_count": 24,
   "id": "9c07e201-4a8c-4d9e-aada-f9f9d9fbd1fa",
   "metadata": {},
   "outputs": [
    {
     "data": {
      "text/html": [
       "<div>\n",
       "<style scoped>\n",
       "    .dataframe tbody tr th:only-of-type {\n",
       "        vertical-align: middle;\n",
       "    }\n",
       "\n",
       "    .dataframe tbody tr th {\n",
       "        vertical-align: top;\n",
       "    }\n",
       "\n",
       "    .dataframe thead th {\n",
       "        text-align: right;\n",
       "    }\n",
       "</style>\n",
       "<table border=\"1\" class=\"dataframe\">\n",
       "  <thead>\n",
       "    <tr style=\"text-align: right;\">\n",
       "      <th></th>\n",
       "      <th>Name</th>\n",
       "      <th>Brand channel</th>\n",
       "      <th>Subscribers (millions)</th>\n",
       "      <th>Primary language</th>\n",
       "      <th>Category</th>\n",
       "      <th>Country</th>\n",
       "    </tr>\n",
       "  </thead>\n",
       "  <tbody>\n",
       "    <tr>\n",
       "      <th>0</th>\n",
       "      <td>T-Series</td>\n",
       "      <td>Yes</td>\n",
       "      <td>249.0</td>\n",
       "      <td>Hindi[7][8]</td>\n",
       "      <td>Music</td>\n",
       "      <td>India</td>\n",
       "    </tr>\n",
       "    <tr>\n",
       "      <th>1</th>\n",
       "      <td>MrBeast</td>\n",
       "      <td>No</td>\n",
       "      <td>184.0</td>\n",
       "      <td>English</td>\n",
       "      <td>Entertainment</td>\n",
       "      <td>United States</td>\n",
       "    </tr>\n",
       "    <tr>\n",
       "      <th>2</th>\n",
       "      <td>Cocomelon</td>\n",
       "      <td>Yes</td>\n",
       "      <td>165.0</td>\n",
       "      <td>English</td>\n",
       "      <td>Education</td>\n",
       "      <td>United States</td>\n",
       "    </tr>\n",
       "    <tr>\n",
       "      <th>3</th>\n",
       "      <td>Sony Entertainment Television India</td>\n",
       "      <td>Yes</td>\n",
       "      <td>162.0</td>\n",
       "      <td>Hindi[9]</td>\n",
       "      <td>Entertainment</td>\n",
       "      <td>India</td>\n",
       "    </tr>\n",
       "    <tr>\n",
       "      <th>4</th>\n",
       "      <td>Kids Diana Show</td>\n",
       "      <td>Yes</td>\n",
       "      <td>113.0</td>\n",
       "      <td>English[10][11][12]</td>\n",
       "      <td>Entertainment</td>\n",
       "      <td>Ukraine- United States</td>\n",
       "    </tr>\n",
       "    <tr>\n",
       "      <th>5</th>\n",
       "      <td>PewDiePie</td>\n",
       "      <td>No</td>\n",
       "      <td>111.0</td>\n",
       "      <td>English</td>\n",
       "      <td>Entertainment</td>\n",
       "      <td>Sweden</td>\n",
       "    </tr>\n",
       "    <tr>\n",
       "      <th>6</th>\n",
       "      <td>Like Nastya</td>\n",
       "      <td>No</td>\n",
       "      <td>107.0</td>\n",
       "      <td>English</td>\n",
       "      <td>Entertainment</td>\n",
       "      <td>Russia- United States</td>\n",
       "    </tr>\n",
       "    <tr>\n",
       "      <th>7</th>\n",
       "      <td>Vlad and Niki</td>\n",
       "      <td>No</td>\n",
       "      <td>101.0</td>\n",
       "      <td>English</td>\n",
       "      <td>Entertainment</td>\n",
       "      <td>Russia- United States</td>\n",
       "    </tr>\n",
       "    <tr>\n",
       "      <th>8</th>\n",
       "      <td>Zee Music Company</td>\n",
       "      <td>Yes</td>\n",
       "      <td>99.5</td>\n",
       "      <td>Hindi[13][14]</td>\n",
       "      <td>Music</td>\n",
       "      <td>India</td>\n",
       "    </tr>\n",
       "    <tr>\n",
       "      <th>9</th>\n",
       "      <td>WWE</td>\n",
       "      <td>Yes</td>\n",
       "      <td>97.1</td>\n",
       "      <td>English</td>\n",
       "      <td>Sports</td>\n",
       "      <td>United States</td>\n",
       "    </tr>\n",
       "    <tr>\n",
       "      <th>10</th>\n",
       "      <td>Blackpink</td>\n",
       "      <td>No</td>\n",
       "      <td>91.2</td>\n",
       "      <td>Korean</td>\n",
       "      <td>Music</td>\n",
       "      <td>South Korea</td>\n",
       "    </tr>\n",
       "    <tr>\n",
       "      <th>11</th>\n",
       "      <td>Goldmines</td>\n",
       "      <td>Yes</td>\n",
       "      <td>89.5</td>\n",
       "      <td>Hindi</td>\n",
       "      <td>Film</td>\n",
       "      <td>India</td>\n",
       "    </tr>\n",
       "    <tr>\n",
       "      <th>12</th>\n",
       "      <td>Sony SAB</td>\n",
       "      <td>Yes</td>\n",
       "      <td>85.2</td>\n",
       "      <td>Hindi</td>\n",
       "      <td>Entertainment</td>\n",
       "      <td>India</td>\n",
       "    </tr>\n",
       "    <tr>\n",
       "      <th>13</th>\n",
       "      <td>5-Minute Crafts</td>\n",
       "      <td>Yes</td>\n",
       "      <td>80.2</td>\n",
       "      <td>English</td>\n",
       "      <td>How-to</td>\n",
       "      <td>Cyprus[a]</td>\n",
       "    </tr>\n",
       "    <tr>\n",
       "      <th>14</th>\n",
       "      <td>BangtanTV</td>\n",
       "      <td>No</td>\n",
       "      <td>76.4</td>\n",
       "      <td>Korean</td>\n",
       "      <td>Music</td>\n",
       "      <td>South Korea</td>\n",
       "    </tr>\n",
       "    <tr>\n",
       "      <th>15</th>\n",
       "      <td>Hybe Labels</td>\n",
       "      <td>Yes</td>\n",
       "      <td>72.6</td>\n",
       "      <td>Korean</td>\n",
       "      <td>Music</td>\n",
       "      <td>South Korea</td>\n",
       "    </tr>\n",
       "    <tr>\n",
       "      <th>16</th>\n",
       "      <td>Zee TV</td>\n",
       "      <td>Yes</td>\n",
       "      <td>72.4</td>\n",
       "      <td>Hindi</td>\n",
       "      <td>Entertainment</td>\n",
       "      <td>India</td>\n",
       "    </tr>\n",
       "    <tr>\n",
       "      <th>17</th>\n",
       "      <td>Justin Bieber</td>\n",
       "      <td>No</td>\n",
       "      <td>71.9</td>\n",
       "      <td>English</td>\n",
       "      <td>Music</td>\n",
       "      <td>Canada</td>\n",
       "    </tr>\n",
       "    <tr>\n",
       "      <th>18</th>\n",
       "      <td>Pinkfong</td>\n",
       "      <td>Yes</td>\n",
       "      <td>69.5</td>\n",
       "      <td>English</td>\n",
       "      <td>Education</td>\n",
       "      <td>South Korea</td>\n",
       "    </tr>\n",
       "    <tr>\n",
       "      <th>19</th>\n",
       "      <td>ChuChu TV Nursery Rhymes &amp; Kids Songs</td>\n",
       "      <td>Yes</td>\n",
       "      <td>67.5</td>\n",
       "      <td>Hindi[16]</td>\n",
       "      <td>Education</td>\n",
       "      <td>India</td>\n",
       "    </tr>\n",
       "  </tbody>\n",
       "</table>\n",
       "</div>"
      ],
      "text/plain": [
       "                                     Name Brand channel  \\\n",
       "0                                T-Series           Yes   \n",
       "1                                 MrBeast            No   \n",
       "2                               Cocomelon           Yes   \n",
       "3     Sony Entertainment Television India           Yes   \n",
       "4                         Kids Diana Show           Yes   \n",
       "5                               PewDiePie            No   \n",
       "6                             Like Nastya            No   \n",
       "7                           Vlad and Niki            No   \n",
       "8                       Zee Music Company           Yes   \n",
       "9                                     WWE           Yes   \n",
       "10                              Blackpink            No   \n",
       "11                              Goldmines           Yes   \n",
       "12                               Sony SAB           Yes   \n",
       "13                        5-Minute Crafts           Yes   \n",
       "14                              BangtanTV            No   \n",
       "15                            Hybe Labels           Yes   \n",
       "16                                 Zee TV           Yes   \n",
       "17                          Justin Bieber            No   \n",
       "18                               Pinkfong           Yes   \n",
       "19  ChuChu TV Nursery Rhymes & Kids Songs           Yes   \n",
       "\n",
       "    Subscribers (millions)     Primary language       Category  \\\n",
       "0                    249.0          Hindi[7][8]          Music   \n",
       "1                    184.0              English  Entertainment   \n",
       "2                    165.0              English      Education   \n",
       "3                    162.0             Hindi[9]  Entertainment   \n",
       "4                    113.0  English[10][11][12]  Entertainment   \n",
       "5                    111.0              English  Entertainment   \n",
       "6                    107.0              English  Entertainment   \n",
       "7                    101.0              English  Entertainment   \n",
       "8                     99.5        Hindi[13][14]          Music   \n",
       "9                     97.1              English         Sports   \n",
       "10                    91.2               Korean          Music   \n",
       "11                    89.5                Hindi           Film   \n",
       "12                    85.2                Hindi  Entertainment   \n",
       "13                    80.2              English         How-to   \n",
       "14                    76.4               Korean          Music   \n",
       "15                    72.6               Korean          Music   \n",
       "16                    72.4                Hindi  Entertainment   \n",
       "17                    71.9              English          Music   \n",
       "18                    69.5              English      Education   \n",
       "19                    67.5            Hindi[16]      Education   \n",
       "\n",
       "                   Country  \n",
       "0                    India  \n",
       "1            United States  \n",
       "2            United States  \n",
       "3                    India  \n",
       "4   Ukraine- United States  \n",
       "5                   Sweden  \n",
       "6    Russia- United States  \n",
       "7    Russia- United States  \n",
       "8                    India  \n",
       "9            United States  \n",
       "10             South Korea  \n",
       "11                   India  \n",
       "12                   India  \n",
       "13               Cyprus[a]  \n",
       "14             South Korea  \n",
       "15             South Korea  \n",
       "16                   India  \n",
       "17                  Canada  \n",
       "18             South Korea  \n",
       "19                   India  "
      ]
     },
     "execution_count": 24,
     "metadata": {},
     "output_type": "execute_result"
    }
   ],
   "source": [
    "# Loading Data set using pandas.\n",
    "import pandas as pd  # Importing pandas as pd\n",
    "file=\"/Users/puttasathvik/Downloads/TextBasedAnalysis/Assignment/Most Subscribed YouTube Channels_exported.csv\" # File Path\n",
    "df=pd.read_csv(file)\n",
    "# Fill NaN values in 'comments' column with empty strings\n",
    "df['Country'] = df['Country'].fillna('')\n",
    "# Using head Meathod to Print Top 20 Rows\n",
    "df.head(20)"
   ]
  },
  {
   "cell_type": "markdown",
   "id": "d6793afc-d9f6-44f3-ba9f-0f824199e871",
   "metadata": {},
   "source": [
    "## Data Preprocessing"
   ]
  },
  {
   "cell_type": "markdown",
   "id": "64caf969-6d9f-4355-878b-c125610b8af0",
   "metadata": {},
   "source": [
    "## Printing column names"
   ]
  },
  {
   "cell_type": "code",
   "execution_count": 25,
   "id": "87c31038-4e27-46fa-83c6-93bc74baabb3",
   "metadata": {},
   "outputs": [
    {
     "data": {
      "text/plain": [
       "Index(['Name', 'Brand channel', 'Subscribers (millions)', 'Primary language',\n",
       "       'Category', 'Country'],\n",
       "      dtype='object')"
      ]
     },
     "execution_count": 25,
     "metadata": {},
     "output_type": "execute_result"
    }
   ],
   "source": [
    "# Printing Column Names \n",
    "df.columns"
   ]
  },
  {
   "cell_type": "markdown",
   "id": "c65ee8f6-8694-478d-a71a-fc2c1da1a84a",
   "metadata": {},
   "source": [
    "## Printing Data Types of Columns"
   ]
  },
  {
   "cell_type": "code",
   "execution_count": 26,
   "id": "834aa5a8-0958-474f-ba41-1cb99d9bb037",
   "metadata": {},
   "outputs": [
    {
     "data": {
      "text/plain": [
       "Name                       object\n",
       "Brand channel              object\n",
       "Subscribers (millions)    float64\n",
       "Primary language           object\n",
       "Category                   object\n",
       "Country                    object\n",
       "dtype: object"
      ]
     },
     "execution_count": 26,
     "metadata": {},
     "output_type": "execute_result"
    }
   ],
   "source": [
    "# Printing Data Types of the Columns\n",
    "df.dtypes"
   ]
  },
  {
   "cell_type": "markdown",
   "id": "12c85db7-443b-4574-9424-8d80df666d58",
   "metadata": {},
   "source": [
    "## Applying Info Method"
   ]
  },
  {
   "cell_type": "code",
   "execution_count": 27,
   "id": "73f2655d-6d74-423a-a7fa-c83a76deb3c3",
   "metadata": {},
   "outputs": [
    {
     "name": "stdout",
     "output_type": "stream",
     "text": [
      "<class 'pandas.core.frame.DataFrame'>\n",
      "RangeIndex: 50 entries, 0 to 49\n",
      "Data columns (total 6 columns):\n",
      " #   Column                  Non-Null Count  Dtype  \n",
      "---  ------                  --------------  -----  \n",
      " 0   Name                    50 non-null     object \n",
      " 1   Brand channel           50 non-null     object \n",
      " 2   Subscribers (millions)  50 non-null     float64\n",
      " 3   Primary language        50 non-null     object \n",
      " 4   Category                50 non-null     object \n",
      " 5   Country                 50 non-null     object \n",
      "dtypes: float64(1), object(5)\n",
      "memory usage: 2.5+ KB\n"
     ]
    }
   ],
   "source": [
    "# Printing the Basic Information of the Data Set.\n",
    "df.info()"
   ]
  },
  {
   "cell_type": "markdown",
   "id": "8eafbd19-b79a-4681-8495-1f14e0244012",
   "metadata": {},
   "source": [
    "## Printing Statistical Information"
   ]
  },
  {
   "cell_type": "code",
   "execution_count": 28,
   "id": "eeeee0d9-8a37-4b9e-8529-e28e50d52f9d",
   "metadata": {},
   "outputs": [
    {
     "data": {
      "text/html": [
       "<div>\n",
       "<style scoped>\n",
       "    .dataframe tbody tr th:only-of-type {\n",
       "        vertical-align: middle;\n",
       "    }\n",
       "\n",
       "    .dataframe tbody tr th {\n",
       "        vertical-align: top;\n",
       "    }\n",
       "\n",
       "    .dataframe thead th {\n",
       "        text-align: right;\n",
       "    }\n",
       "</style>\n",
       "<table border=\"1\" class=\"dataframe\">\n",
       "  <thead>\n",
       "    <tr style=\"text-align: right;\">\n",
       "      <th></th>\n",
       "      <th>Subscribers (millions)</th>\n",
       "    </tr>\n",
       "  </thead>\n",
       "  <tbody>\n",
       "    <tr>\n",
       "      <th>count</th>\n",
       "      <td>50.000000</td>\n",
       "    </tr>\n",
       "    <tr>\n",
       "      <th>mean</th>\n",
       "      <td>76.208000</td>\n",
       "    </tr>\n",
       "    <tr>\n",
       "      <th>std</th>\n",
       "      <td>39.735225</td>\n",
       "    </tr>\n",
       "    <tr>\n",
       "      <th>min</th>\n",
       "      <td>46.300000</td>\n",
       "    </tr>\n",
       "    <tr>\n",
       "      <th>25%</th>\n",
       "      <td>53.800000</td>\n",
       "    </tr>\n",
       "    <tr>\n",
       "      <th>50%</th>\n",
       "      <td>60.300000</td>\n",
       "    </tr>\n",
       "    <tr>\n",
       "      <th>75%</th>\n",
       "      <td>83.950000</td>\n",
       "    </tr>\n",
       "    <tr>\n",
       "      <th>max</th>\n",
       "      <td>249.000000</td>\n",
       "    </tr>\n",
       "  </tbody>\n",
       "</table>\n",
       "</div>"
      ],
      "text/plain": [
       "       Subscribers (millions)\n",
       "count               50.000000\n",
       "mean                76.208000\n",
       "std                 39.735225\n",
       "min                 46.300000\n",
       "25%                 53.800000\n",
       "50%                 60.300000\n",
       "75%                 83.950000\n",
       "max                249.000000"
      ]
     },
     "execution_count": 28,
     "metadata": {},
     "output_type": "execute_result"
    }
   ],
   "source": [
    "# Printing the Statistical Information of the Data Set.\n",
    "df.describe()"
   ]
  },
  {
   "cell_type": "markdown",
   "id": "49f48df7-ee4f-4b31-b02e-67d43e6e49a3",
   "metadata": {},
   "source": [
    "## Adding a New Column"
   ]
  },
  {
   "cell_type": "code",
   "execution_count": 30,
   "id": "42ed4558-3d90-4b24-9cbf-0778ae3e2f55",
   "metadata": {},
   "outputs": [
    {
     "data": {
      "text/html": [
       "<div>\n",
       "<style scoped>\n",
       "    .dataframe tbody tr th:only-of-type {\n",
       "        vertical-align: middle;\n",
       "    }\n",
       "\n",
       "    .dataframe tbody tr th {\n",
       "        vertical-align: top;\n",
       "    }\n",
       "\n",
       "    .dataframe thead th {\n",
       "        text-align: right;\n",
       "    }\n",
       "</style>\n",
       "<table border=\"1\" class=\"dataframe\">\n",
       "  <thead>\n",
       "    <tr style=\"text-align: right;\">\n",
       "      <th></th>\n",
       "      <th>Subscribers (millions)</th>\n",
       "      <th>length</th>\n",
       "    </tr>\n",
       "  </thead>\n",
       "  <tbody>\n",
       "    <tr>\n",
       "      <th>count</th>\n",
       "      <td>50.000000</td>\n",
       "      <td>50.000000</td>\n",
       "    </tr>\n",
       "    <tr>\n",
       "      <th>mean</th>\n",
       "      <td>76.208000</td>\n",
       "      <td>6.940000</td>\n",
       "    </tr>\n",
       "    <tr>\n",
       "      <th>std</th>\n",
       "      <td>39.735225</td>\n",
       "      <td>2.368242</td>\n",
       "    </tr>\n",
       "    <tr>\n",
       "      <th>min</th>\n",
       "      <td>46.300000</td>\n",
       "      <td>4.000000</td>\n",
       "    </tr>\n",
       "    <tr>\n",
       "      <th>25%</th>\n",
       "      <td>53.800000</td>\n",
       "      <td>5.000000</td>\n",
       "    </tr>\n",
       "    <tr>\n",
       "      <th>50%</th>\n",
       "      <td>60.300000</td>\n",
       "      <td>7.000000</td>\n",
       "    </tr>\n",
       "    <tr>\n",
       "      <th>75%</th>\n",
       "      <td>83.950000</td>\n",
       "      <td>7.000000</td>\n",
       "    </tr>\n",
       "    <tr>\n",
       "      <th>max</th>\n",
       "      <td>249.000000</td>\n",
       "      <td>19.000000</td>\n",
       "    </tr>\n",
       "  </tbody>\n",
       "</table>\n",
       "</div>"
      ],
      "text/plain": [
       "       Subscribers (millions)     length\n",
       "count               50.000000  50.000000\n",
       "mean                76.208000   6.940000\n",
       "std                 39.735225   2.368242\n",
       "min                 46.300000   4.000000\n",
       "25%                 53.800000   5.000000\n",
       "50%                 60.300000   7.000000\n",
       "75%                 83.950000   7.000000\n",
       "max                249.000000  19.000000"
      ]
     },
     "execution_count": 30,
     "metadata": {},
     "output_type": "execute_result"
    }
   ],
   "source": [
    "# Adding a new column to store length of the text.\n",
    "df['length']=df['Primary language'].str.len()\n",
    "df.describe()"
   ]
  },
  {
   "cell_type": "markdown",
   "id": "90ed062c-4efe-4184-83c5-7afdb281a427",
   "metadata": {},
   "source": [
    "## Applying describer Method"
   ]
  },
  {
   "cell_type": "code",
   "execution_count": 31,
   "id": "33b3b0b4-cad2-450f-ac2d-97cb235804b5",
   "metadata": {},
   "outputs": [
    {
     "data": {
      "text/html": [
       "<div>\n",
       "<style scoped>\n",
       "    .dataframe tbody tr th:only-of-type {\n",
       "        vertical-align: middle;\n",
       "    }\n",
       "\n",
       "    .dataframe tbody tr th {\n",
       "        vertical-align: top;\n",
       "    }\n",
       "\n",
       "    .dataframe thead th {\n",
       "        text-align: right;\n",
       "    }\n",
       "</style>\n",
       "<table border=\"1\" class=\"dataframe\">\n",
       "  <thead>\n",
       "    <tr style=\"text-align: right;\">\n",
       "      <th></th>\n",
       "      <th>Name</th>\n",
       "      <th>Brand channel</th>\n",
       "      <th>Primary language</th>\n",
       "      <th>Category</th>\n",
       "      <th>Country</th>\n",
       "    </tr>\n",
       "  </thead>\n",
       "  <tbody>\n",
       "    <tr>\n",
       "      <th>count</th>\n",
       "      <td>50</td>\n",
       "      <td>50</td>\n",
       "      <td>50</td>\n",
       "      <td>50</td>\n",
       "      <td>50</td>\n",
       "    </tr>\n",
       "    <tr>\n",
       "      <th>unique</th>\n",
       "      <td>50</td>\n",
       "      <td>2</td>\n",
       "      <td>13</td>\n",
       "      <td>8</td>\n",
       "      <td>19</td>\n",
       "    </tr>\n",
       "    <tr>\n",
       "      <th>top</th>\n",
       "      <td>T-Series</td>\n",
       "      <td>Yes</td>\n",
       "      <td>English</td>\n",
       "      <td>Music</td>\n",
       "      <td>India</td>\n",
       "    </tr>\n",
       "    <tr>\n",
       "      <th>freq</th>\n",
       "      <td>1</td>\n",
       "      <td>32</td>\n",
       "      <td>19</td>\n",
       "      <td>22</td>\n",
       "      <td>18</td>\n",
       "    </tr>\n",
       "  </tbody>\n",
       "</table>\n",
       "</div>"
      ],
      "text/plain": [
       "            Name Brand channel Primary language Category Country\n",
       "count         50            50               50       50      50\n",
       "unique        50             2               13        8      19\n",
       "top     T-Series           Yes          English    Music   India\n",
       "freq           1            32               19       22      18"
      ]
     },
     "execution_count": 31,
     "metadata": {},
     "output_type": "execute_result"
    }
   ],
   "source": [
    "# Using describe Method\n",
    "df.describe(include='O')"
   ]
  },
  {
   "cell_type": "markdown",
   "id": "bee8af98-670d-4736-a3c9-15c532fc4bd7",
   "metadata": {},
   "source": [
    "## Data Visualization"
   ]
  },
  {
   "cell_type": "code",
   "execution_count": 32,
   "id": "31638ac8-7512-4c79-8fd1-d66db3250bc6",
   "metadata": {},
   "outputs": [
    {
     "data": {
      "image/png": "[encoded data removed]",
      "text/plain": [
       "<Figure size 640x480 with 1 Axes>"
      ]
     },
     "metadata": {},
     "output_type": "display_data"
    }
   ],
   "source": [
    "# Importing matplotlib Package\n",
    "import matplotlib.pyplot as plt\n",
    "# Assuming 'length' as a Target Column\n",
    "df['length'].plot(label='Length')\n",
    "# Adding legend\n",
    "plt.xlabel('Length')\n",
    "plt.ylabel('Frequency')\n",
    "plt.legend()\n",
    "# Display the plot\n",
    "plt.show()"
   ]
  },
  {
   "cell_type": "markdown",
   "id": "4098f55b-9e86-48df-9363-518d9f6a39c5",
   "metadata": {},
   "source": [
    "## Ploting a Box Plot"
   ]
  },
  {
   "cell_type": "code",
   "execution_count": 33,
   "id": "3673564e-7d25-474a-8e1c-d585ef77a1d9",
   "metadata": {},
   "outputs": [
    {
     "data": {
      "image/png": "[encoded data removed]",
      "text/plain": [
       "<Figure size 640x480 with 1 Axes>"
      ]
     },
     "metadata": {},
     "output_type": "display_data"
    }
   ],
   "source": [
    "df['length'].plot(kind='box', vert=False)\n",
    "# Adding labels and title\n",
    "plt.xlabel('Length')\n",
    "plt.title('Horizontal Box Plot of Length')\n",
    "# Showing the plot\n",
    "plt.show()"
   ]
  },
  {
   "cell_type": "markdown",
   "id": "84aa7abc-7ef0-4de7-9f45-9bf7ea1c1c73",
   "metadata": {},
   "source": [
    "## Creating a Histogram"
   ]
  },
  {
   "cell_type": "code",
   "execution_count": 34,
   "id": "1879a402-8fec-4dc6-b8cb-7d968cf23001",
   "metadata": {},
   "outputs": [
    {
     "data": {
      "text/plain": [
       "Text(0.5, 0, 'Length')"
      ]
     },
     "execution_count": 34,
     "metadata": {},
     "output_type": "execute_result"
    },
    {
     "data": {
      "image/png": "[encoded data removed]",
      "text/plain": [
       "<Figure size 640x480 with 1 Axes>"
      ]
     },
     "metadata": {},
     "output_type": "display_data"
    }
   ],
   "source": [
    "# Creating a Histogram\n",
    "df['length'].plot(kind='hist',bins=30)\n",
    "plt.xlabel('Length')"
   ]
  },
  {
   "cell_type": "markdown",
   "id": "d5bdccaf-f387-4c01-81f6-4cc58304d38b",
   "metadata": {},
   "source": [
    "## Histogram"
   ]
  },
  {
   "cell_type": "code",
   "execution_count": 37,
   "id": "45a164be-c389-4f30-80b2-7b983fdc3e74",
   "metadata": {},
   "outputs": [
    {
     "name": "stderr",
     "output_type": "stream",
     "text": [
      "/opt/anaconda3/lib/python3.11/site-packages/seaborn/_oldcore.py:1119: FutureWarning: use_inf_as_na option is deprecated and will be removed in a future version. Convert inf values to NaN before operating instead.\n",
      "  with pd.option_context('mode.use_inf_as_na', True):\n"
     ]
    },
    {
     "data": {
      "image/png": "[encoded data removed]",
      "text/plain": [
       "<Figure size 1000x600 with 1 Axes>"
      ]
     },
     "metadata": {},
     "output_type": "display_data"
    }
   ],
   "source": [
    "import matplotlib.pyplot as plt\n",
    "import seaborn as sns\n",
    "plt.figure(figsize=(10, 6))\n",
    "sns.histplot(data=df, x='Subscribers (millions)', bins=30, kde=True)\n",
    "plt.title('Most Subscribed YouTube Channels_exported')\n",
    "plt.xlabel('listing_id')\n",
    "plt.ylabel('Frequency')\n",
    "plt.show()"
   ]
  },
  {
   "cell_type": "markdown",
   "id": "dcfa903e-f45d-43f2-9be8-e2cd634b8e34",
   "metadata": {},
   "source": [
    "## Bar plot"
   ]
  },
  {
   "cell_type": "code",
   "execution_count": 47,
   "id": "c87d53eb-9a6a-4548-abd3-43ec45eda9f5",
   "metadata": {},
   "outputs": [
    {
     "data": {
      "image/png": "[encoded data removed]",
      "text/plain": [
       "<Figure size 1000x800 with 1 Axes>"
      ]
     },
     "metadata": {},
     "output_type": "display_data"
    }
   ],
   "source": [
    "import seaborn as sns\n",
    "where = df['Country'].isin(['India', 'South Korea'])\n",
    "g = sns.catplot(data=df[where], x=\"Country\", y=\"length\", kind='box')\n",
    "g.fig.set_size_inches(10, 8) ###"
   ]
  },
  {
   "cell_type": "markdown",
   "id": "93fc2cb2-7244-419b-b379-5628c5a5abb7",
   "metadata": {},
   "source": [
    "## Pre-Processing Pipeline:"
   ]
  },
  {
   "cell_type": "code",
   "execution_count": 50,
   "id": "f4301d93-b787-4a32-95a3-396fdf15864a",
   "metadata": {},
   "outputs": [
    {
     "name": "stdout",
     "output_type": "stream",
     "text": [
      "Requirement already satisfied: regex in /opt/anaconda3/lib/python3.11/site-packages (2023.10.3)\n"
     ]
    }
   ],
   "source": [
    "!pip install regex"
   ]
  },
  {
   "cell_type": "code",
   "execution_count": 51,
   "id": "d1cab3db-bfc9-4bb1-aed5-3093595e1e92",
   "metadata": {},
   "outputs": [],
   "source": [
    "# Regex to Pull Out Words\n",
    "import regex as re\n",
    "def tokenize(text):return re.findall(r'[\\w-]*[a-z|A-Z][\\w-]*', text) # Function To Tokenize"
   ]
  },
  {
   "cell_type": "markdown",
   "id": "bbbc2bbe-96c3-4df4-b958-ed618558d727",
   "metadata": {},
   "source": [
    "## Tokenizing the Given Text"
   ]
  },
  {
   "cell_type": "code",
   "execution_count": 52,
   "id": "ae88ce76-8ab3-40b5-80b8-e7f16b1996c9",
   "metadata": {},
   "outputs": [
    {
     "name": "stdout",
     "output_type": "stream",
     "text": [
      "['Let', 's', 'defeat', 'SARS-CoV-2', 'together', 'in', 'www', 'cdc', 'gov']\n"
     ]
    }
   ],
   "source": [
    "# Toknizing the Given Text\n",
    "testtext = \"Let's defeat SARS-CoV-2 together in 2020! www.cdc.gov\"\n",
    "testtokens = tokenize(testtext)\n",
    "print(testtokens)"
   ]
  },
  {
   "cell_type": "markdown",
   "id": "361a73ea-8471-433a-8c57-4842b0344f0f",
   "metadata": {},
   "source": [
    "## Using nltk Package"
   ]
  },
  {
   "cell_type": "code",
   "execution_count": 53,
   "id": "ff5b3a8c-b822-46b5-ab50-c61d572e81b6",
   "metadata": {},
   "outputs": [
    {
     "name": "stdout",
     "output_type": "stream",
     "text": [
      "Requirement already satisfied: nltk in /opt/anaconda3/lib/python3.11/site-packages (3.8.1)\n",
      "Requirement already satisfied: click in /opt/anaconda3/lib/python3.11/site-packages (from nltk) (8.1.7)\n",
      "Requirement already satisfied: joblib in /opt/anaconda3/lib/python3.11/site-packages (from nltk) (1.2.0)\n",
      "Requirement already satisfied: regex>=2021.8.3 in /opt/anaconda3/lib/python3.11/site-packages (from nltk) (2023.10.3)\n",
      "Requirement already satisfied: tqdm in /opt/anaconda3/lib/python3.11/site-packages (from nltk) (4.65.0)\n"
     ]
    }
   ],
   "source": [
    "# Installing nltk Package\n",
    "!pip install nltk"
   ]
  },
  {
   "cell_type": "markdown",
   "id": "bfd0b941-0a12-4673-b637-a17b0b420f5e",
   "metadata": {},
   "source": [
    "## Importing NLTK Package and Downloading Stopwords"
   ]
  },
  {
   "cell_type": "code",
   "execution_count": 54,
   "id": "bec25b06-89b7-47c3-abe3-ef0f2bd8be59",
   "metadata": {},
   "outputs": [
    {
     "name": "stderr",
     "output_type": "stream",
     "text": [
      "[nltk_data] Downloading package punkt to\n",
      "[nltk_data]     /Users/puttasathvik/nltk_data...\n"
     ]
    },
    {
     "name": "stdout",
     "output_type": "stream",
     "text": [
      "{'more', 'my', 'your', 'doing', 'didn', \"doesn't\", 'needn', 'his', 'hers', 'off', 'in', 'about', \"she's\", 'won', 'were', \"won't\", 'ain', 'those', 'hadn', 's', 'being', 'no', 'whom', 'while', 'once', 'has', 'so', 'few', 'theirs', 'where', 'isn', \"mightn't\", 'again', 'themselves', 'just', \"didn't\", 'yourselves', 'such', 'is', 'on', 'which', 're', \"aren't\", 'but', 'here', 'further', \"hasn't\", 'mightn', \"shouldn't\", 'can', 'above', 'during', 'below', 'other', 'will', 'own', 'until', 'of', 'these', 'its', 'most', 'for', 'wasn', 'as', 'do', 'i', 'be', 'mustn', 'they', 'you', 'against', 'this', 'before', 'll', 'o', 'down', 'yours', \"you've\", 'itself', \"mustn't\", \"shan't\", 'because', 'what', 'after', 'if', 'into', 'nor', 'are', 'when', 'under', \"weren't\", 'himself', 'had', \"needn't\", 'that', 'yourself', 'same', 'couldn', 'he', \"wasn't\", 'wouldn', 'some', 'too', 've', 'an', 'aren', 'was', 'she', 'any', 'him', 'ours', 'each', 'myself', 'not', 'haven', 'than', 'between', 'who', 'over', 'all', 'now', 'how', 'been', \"you'd\", 'up', \"haven't\", 'm', 'does', 'did', 'why', 'herself', 'it', 'out', \"you're\", 'd', 'we', 'hasn', 'only', 'shan', 'with', 'am', \"you'll\", 'to', 't', 'or', 'our', \"wouldn't\", 'weren', \"isn't\", 'her', \"hadn't\", 'both', 'at', \"don't\", 'should', 'their', 'the', 'and', 'them', 'very', 'don', 'me', 'by', 'there', \"couldn't\", \"should've\", 'ourselves', 'then', 'y', 'have', 'having', 'doesn', 'a', 'from', 'ma', 'shouldn', \"that'll\", \"it's\", 'through'}\n"
     ]
    },
    {
     "name": "stderr",
     "output_type": "stream",
     "text": [
      "[nltk_data]   Unzipping tokenizers/punkt.zip.\n",
      "[nltk_data] Downloading package stopwords to\n",
      "[nltk_data]     /Users/puttasathvik/nltk_data...\n",
      "[nltk_data]   Package stopwords is already up-to-date!\n"
     ]
    }
   ],
   "source": [
    "import nltk  # Importing nltk Package\n",
    "from nltk.tokenize import word_tokenize\n",
    "\n",
    "nltk.download('punkt') \n",
    "nltk.download('stopwords')\n",
    "# Downloading list of English Stop Words\n",
    "stopwords = set(nltk.corpus.stopwords.words('english'))  \n",
    "print(stopwords)"
   ]
  },
  {
   "cell_type": "markdown",
   "id": "9cd1cb59-2c0b-4a99-b8b6-5501deaef70c",
   "metadata": {},
   "source": [
    "## Function to remove stop words"
   ]
  },
  {
   "cell_type": "code",
   "execution_count": 78,
   "id": "b7a8e188-a9ef-4dcb-836f-ef0aa59fc943",
   "metadata": {},
   "outputs": [
    {
     "name": "stdout",
     "output_type": "stream",
     "text": [
      "['This', 'test', 'sentence']\n"
     ]
    }
   ],
   "source": [
    "def remove_stop(tokens, stopwords):\n",
    "    if not isinstance(tokens, list):\n",
    "        raise ValueError(\"Input tokens must be a list\")\n",
    "    return [t for t in tokens if t.lower() not in stopwords]\n",
    "\n",
    "# Just testing it\n",
    "testtokens = [\"This\", \"is\", \"a\", \"test\", \"sentence\"]\n",
    "stopwords = [\"is\", \"a\"]\n",
    "\n",
    "cleantokens = remove_stop(testtokens, stopwords)\n",
    "print(cleantokens)"
   ]
  },
  {
   "cell_type": "code",
   "execution_count": null,
   "id": "e88b0c58-7686-4beb-865f-2a6914f20c1f",
   "metadata": {},
   "outputs": [],
   "source": []
  },
  {
   "cell_type": "code",
   "execution_count": null,
   "id": "c24eb617-4ec6-4fdd-a958-282fcbca4d2a",
   "metadata": {},
   "outputs": [],
   "source": []
  },
  {
   "cell_type": "markdown",
   "id": "de2454c4-9c52-4c85-b91a-7bd308233914",
   "metadata": {},
   "source": [
    "## Making a PipeLine"
   ]
  },
  {
   "cell_type": "code",
   "execution_count": 56,
   "id": "a1717972-a77d-49b1-8139-8ce161eb1a8b",
   "metadata": {},
   "outputs": [],
   "source": [
    "# making a “pipeline\"\n",
    "pipeline = [str.lower, tokenize]\n",
    "\n",
    "def prepare(text, pipeline):\n",
    "    tokens = text\n",
    "    for fun in pipeline:\n",
    "        tokens = fun(tokens)\n",
    "    return tokens"
   ]
  },
  {
   "cell_type": "markdown",
   "id": "c7039bbd-79f9-436c-adde-344910cf23e8",
   "metadata": {},
   "source": [
    "## Runing PipeLine"
   ]
  },
  {
   "cell_type": "code",
   "execution_count": 58,
   "id": "4cb73b48-4eca-4965-96b2-e490a14ab554",
   "metadata": {},
   "outputs": [],
   "source": [
    "# Runing the pipeline\n",
    "df['tokens'] = df['Brand channel'].apply(prepare, pipeline=pipeline)"
   ]
  },
  {
   "cell_type": "markdown",
   "id": "3fb24663-5711-485c-b517-838b3f296163",
   "metadata": {},
   "source": [
    "## Counting Tokens"
   ]
  },
  {
   "cell_type": "code",
   "execution_count": 59,
   "id": "6b2dfceb-f568-4d4e-91db-c06850cc35c4",
   "metadata": {},
   "outputs": [
    {
     "data": {
      "text/html": [
       "<div>\n",
       "<style scoped>\n",
       "    .dataframe tbody tr th:only-of-type {\n",
       "        vertical-align: middle;\n",
       "    }\n",
       "\n",
       "    .dataframe tbody tr th {\n",
       "        vertical-align: top;\n",
       "    }\n",
       "\n",
       "    .dataframe thead th {\n",
       "        text-align: right;\n",
       "    }\n",
       "</style>\n",
       "<table border=\"1\" class=\"dataframe\">\n",
       "  <thead>\n",
       "    <tr style=\"text-align: right;\">\n",
       "      <th></th>\n",
       "      <th>Name</th>\n",
       "      <th>Brand channel</th>\n",
       "      <th>Subscribers (millions)</th>\n",
       "      <th>Primary language</th>\n",
       "      <th>Category</th>\n",
       "      <th>Country</th>\n",
       "      <th>length</th>\n",
       "      <th>tokens</th>\n",
       "      <th>num_tokens</th>\n",
       "    </tr>\n",
       "  </thead>\n",
       "  <tbody>\n",
       "    <tr>\n",
       "      <th>45</th>\n",
       "      <td>A4</td>\n",
       "      <td>No</td>\n",
       "      <td>47.2</td>\n",
       "      <td>Russian</td>\n",
       "      <td>Entertainment</td>\n",
       "      <td>Belarus</td>\n",
       "      <td>7</td>\n",
       "      <td>[no]</td>\n",
       "      <td>1</td>\n",
       "    </tr>\n",
       "    <tr>\n",
       "      <th>46</th>\n",
       "      <td>Badabun</td>\n",
       "      <td>Yes</td>\n",
       "      <td>47.0</td>\n",
       "      <td>Spanish</td>\n",
       "      <td>Entertainment</td>\n",
       "      <td>Mexico</td>\n",
       "      <td>7</td>\n",
       "      <td>[yes]</td>\n",
       "      <td>1</td>\n",
       "    </tr>\n",
       "    <tr>\n",
       "      <th>47</th>\n",
       "      <td>Bad Bunny</td>\n",
       "      <td>No</td>\n",
       "      <td>46.4</td>\n",
       "      <td>Spanish</td>\n",
       "      <td>Music</td>\n",
       "      <td>United States ( Puerto Rico)</td>\n",
       "      <td>7</td>\n",
       "      <td>[no]</td>\n",
       "      <td>1</td>\n",
       "    </tr>\n",
       "    <tr>\n",
       "      <th>48</th>\n",
       "      <td>Har Pal Geo</td>\n",
       "      <td>Yes</td>\n",
       "      <td>46.3</td>\n",
       "      <td>Urdu</td>\n",
       "      <td>Entertainment</td>\n",
       "      <td>Pakistan</td>\n",
       "      <td>4</td>\n",
       "      <td>[yes]</td>\n",
       "      <td>1</td>\n",
       "    </tr>\n",
       "    <tr>\n",
       "      <th>49</th>\n",
       "      <td>Fernanfloo</td>\n",
       "      <td>No</td>\n",
       "      <td>46.3</td>\n",
       "      <td>Spanish</td>\n",
       "      <td>Games</td>\n",
       "      <td>El Salvador</td>\n",
       "      <td>7</td>\n",
       "      <td>[no]</td>\n",
       "      <td>1</td>\n",
       "    </tr>\n",
       "  </tbody>\n",
       "</table>\n",
       "</div>"
      ],
      "text/plain": [
       "           Name Brand channel  Subscribers (millions) Primary language  \\\n",
       "45           A4            No                    47.2          Russian   \n",
       "46      Badabun           Yes                    47.0          Spanish   \n",
       "47    Bad Bunny            No                    46.4          Spanish   \n",
       "48  Har Pal Geo           Yes                    46.3             Urdu   \n",
       "49   Fernanfloo            No                    46.3          Spanish   \n",
       "\n",
       "         Category                       Country  length tokens  num_tokens  \n",
       "45  Entertainment                       Belarus       7   [no]           1  \n",
       "46  Entertainment                        Mexico       7  [yes]           1  \n",
       "47          Music  United States ( Puerto Rico)       7   [no]           1  \n",
       "48  Entertainment                      Pakistan       4  [yes]           1  \n",
       "49          Games                   El Salvador       7   [no]           1  "
      ]
     },
     "execution_count": 59,
     "metadata": {},
     "output_type": "execute_result"
    }
   ],
   "source": [
    "#counting the tokens\n",
    "df['num_tokens'] = df['tokens'].dropna().map(len)\n",
    "df.tail()"
   ]
  },
  {
   "cell_type": "markdown",
   "id": "4a99efca-399f-4f0d-8d2c-3a5a1ff9693a",
   "metadata": {},
   "source": [
    "## Word Frequency Analysis"
   ]
  },
  {
   "cell_type": "code",
   "execution_count": 60,
   "id": "e2b08465-3315-4b9f-9866-d78cbf1313c1",
   "metadata": {},
   "outputs": [
    {
     "name": "stdout",
     "output_type": "stream",
     "text": [
      "Counter({'my': 3, 'cats': 2, 'She': 1, 'likes': 1, 'and': 1, 'like': 1, 'sofa': 1})\n"
     ]
    }
   ],
   "source": [
    "from collections import Counter # Importing Counter from Collections\n",
    "tokens = tokenize(\"She likes my cats and my cats like my sofa.\")\n",
    "testcount= Counter(tokens) # Counting tokens\n",
    "print(testcount)"
   ]
  },
  {
   "cell_type": "markdown",
   "id": "b54e3e95-9580-4be9-a835-fe196c8a60da",
   "metadata": {},
   "source": [
    "## Adding New Data"
   ]
  },
  {
   "cell_type": "code",
   "execution_count": 61,
   "id": "89bc1e16-d775-4517-b95c-e6aa3260233b",
   "metadata": {},
   "outputs": [
    {
     "name": "stdout",
     "output_type": "stream",
     "text": [
      "Counter({'my': 3, 'cats': 3, 'She': 2, 'likes': 2, 'and': 2, 'like': 1, 'sofa': 1, 'dogs': 1})\n"
     ]
    }
   ],
   "source": [
    "# Adding New Data to the Current Count\n",
    "more_tokens = tokenize(\"She likes dogs and cats.\")\n",
    "testcount.update(more_tokens)\n",
    "print(testcount)"
   ]
  },
  {
   "cell_type": "markdown",
   "id": "917a0edd-a84b-46a4-af8a-1474e42fbcc5",
   "metadata": {},
   "source": [
    "## Counting Word Repetations"
   ]
  },
  {
   "cell_type": "code",
   "execution_count": 62,
   "id": "cde26b67-2dbc-41a6-878e-d6e443e2791d",
   "metadata": {},
   "outputs": [
    {
     "name": "stdout",
     "output_type": "stream",
     "text": [
      "[('yes', 32), ('no', 18)]\n"
     ]
    }
   ],
   "source": [
    "# Counting the Word Repetations\n",
    "counter = Counter()\n",
    "df['tokens'].map(counter.update)\n",
    "print(counter.most_common(5))"
   ]
  },
  {
   "cell_type": "markdown",
   "id": "65e46d8f-ac08-4426-b010-caae56fbb473",
   "metadata": {},
   "source": [
    "##  Using word frequency in it’s own dataframe for analysis"
   ]
  },
  {
   "cell_type": "code",
   "execution_count": 63,
   "id": "b48faf16-9ceb-4218-b858-a20606de96a3",
   "metadata": {},
   "outputs": [],
   "source": [
    "# Using word frequency in it’s own dataframe for analysis\n",
    "freq_df = pd.DataFrame.from_dict(counter, orient='index', columns=['freq']) \n",
    "freq_df = freq_df.query('freq >= 1') # Use it to Prevent Worlds that are infrequent\n",
    "freq_df.index.name = 'token'"
   ]
  },
  {
   "cell_type": "markdown",
   "id": "5634213f-6ee0-4b05-a161-57508a24a75d",
   "metadata": {},
   "source": [
    "## Sorting Based on Frequency"
   ]
  },
  {
   "cell_type": "code",
   "execution_count": 64,
   "id": "777ac933-4283-443d-9348-914461572b57",
   "metadata": {},
   "outputs": [
    {
     "data": {
      "text/html": [
       "<div>\n",
       "<style scoped>\n",
       "    .dataframe tbody tr th:only-of-type {\n",
       "        vertical-align: middle;\n",
       "    }\n",
       "\n",
       "    .dataframe tbody tr th {\n",
       "        vertical-align: top;\n",
       "    }\n",
       "\n",
       "    .dataframe thead th {\n",
       "        text-align: right;\n",
       "    }\n",
       "</style>\n",
       "<table border=\"1\" class=\"dataframe\">\n",
       "  <thead>\n",
       "    <tr style=\"text-align: right;\">\n",
       "      <th></th>\n",
       "      <th>freq</th>\n",
       "    </tr>\n",
       "    <tr>\n",
       "      <th>token</th>\n",
       "      <th></th>\n",
       "    </tr>\n",
       "  </thead>\n",
       "  <tbody>\n",
       "    <tr>\n",
       "      <th>yes</th>\n",
       "      <td>32</td>\n",
       "    </tr>\n",
       "    <tr>\n",
       "      <th>no</th>\n",
       "      <td>18</td>\n",
       "    </tr>\n",
       "  </tbody>\n",
       "</table>\n",
       "</div>"
      ],
      "text/plain": [
       "       freq\n",
       "token      \n",
       "yes      32\n",
       "no       18"
      ]
     },
     "execution_count": 64,
     "metadata": {},
     "output_type": "execute_result"
    }
   ],
   "source": [
    "# Let,s sort Based on Frequency and display\n",
    "freq_df = freq_df.sort_values('freq', ascending=False)\n",
    "freq_df.head(10)"
   ]
  },
  {
   "cell_type": "markdown",
   "id": "694adb40-49e0-404a-b6d5-a61a9bae4f36",
   "metadata": {},
   "source": [
    "## Printing Statistical Data"
   ]
  },
  {
   "cell_type": "code",
   "execution_count": 65,
   "id": "4ecad502-693e-431a-948f-a3e2d274ac7e",
   "metadata": {},
   "outputs": [
    {
     "data": {
      "text/html": [
       "<div>\n",
       "<style scoped>\n",
       "    .dataframe tbody tr th:only-of-type {\n",
       "        vertical-align: middle;\n",
       "    }\n",
       "\n",
       "    .dataframe tbody tr th {\n",
       "        vertical-align: top;\n",
       "    }\n",
       "\n",
       "    .dataframe thead th {\n",
       "        text-align: right;\n",
       "    }\n",
       "</style>\n",
       "<table border=\"1\" class=\"dataframe\">\n",
       "  <thead>\n",
       "    <tr style=\"text-align: right;\">\n",
       "      <th></th>\n",
       "      <th>freq</th>\n",
       "    </tr>\n",
       "  </thead>\n",
       "  <tbody>\n",
       "    <tr>\n",
       "      <th>count</th>\n",
       "      <td>2.000000</td>\n",
       "    </tr>\n",
       "    <tr>\n",
       "      <th>mean</th>\n",
       "      <td>25.000000</td>\n",
       "    </tr>\n",
       "    <tr>\n",
       "      <th>std</th>\n",
       "      <td>9.899495</td>\n",
       "    </tr>\n",
       "    <tr>\n",
       "      <th>min</th>\n",
       "      <td>18.000000</td>\n",
       "    </tr>\n",
       "    <tr>\n",
       "      <th>25%</th>\n",
       "      <td>21.500000</td>\n",
       "    </tr>\n",
       "    <tr>\n",
       "      <th>50%</th>\n",
       "      <td>25.000000</td>\n",
       "    </tr>\n",
       "    <tr>\n",
       "      <th>75%</th>\n",
       "      <td>28.500000</td>\n",
       "    </tr>\n",
       "    <tr>\n",
       "      <th>max</th>\n",
       "      <td>32.000000</td>\n",
       "    </tr>\n",
       "  </tbody>\n",
       "</table>\n",
       "</div>"
      ],
      "text/plain": [
       "            freq\n",
       "count   2.000000\n",
       "mean   25.000000\n",
       "std     9.899495\n",
       "min    18.000000\n",
       "25%    21.500000\n",
       "50%    25.000000\n",
       "75%    28.500000\n",
       "max    32.000000"
      ]
     },
     "execution_count": 65,
     "metadata": {},
     "output_type": "execute_result"
    }
   ],
   "source": [
    "# Printing the Statistical Data\n",
    "freq_df.describe()"
   ]
  },
  {
   "cell_type": "markdown",
   "id": "9fed3058-4395-44dd-8389-8e82e1e1d940",
   "metadata": {},
   "source": [
    "## Aplying Bar Chat"
   ]
  },
  {
   "cell_type": "code",
   "execution_count": 70,
   "id": "e917b9fe-e9d5-4a89-8a4d-774eb0944e18",
   "metadata": {},
   "outputs": [
    {
     "data": {
      "text/plain": [
       "[Text(0.5, 0, 'Frequency'), Text(0, 0.5, 'Token'), Text(0.5, 1.0, 'Top Words')]"
      ]
     },
     "execution_count": 70,
     "metadata": {},
     "output_type": "execute_result"
    },
    {
     "data": {
      "image/png": "[encoded data removed]",
      "text/plain": [
       "<Figure size 1200x800 with 1 Axes>"
      ]
     },
     "metadata": {},
     "output_type": "display_data"
    }
   ],
   "source": [
    "#bar chart \n",
    "ax = freq_df.head(30).plot(kind='barh', width=0.95, figsize=(12,8)) # Only for Top 15 Words \n",
    "ax.invert_yaxis() \n",
    "ax.set(xlabel='Frequency', ylabel='Token', title='Top Words') # Legend"
   ]
  },
  {
   "cell_type": "code",
   "execution_count": 71,
   "id": "28789103-1757-4ec4-b5d3-6d655d4eb31b",
   "metadata": {},
   "outputs": [
    {
     "name": "stdout",
     "output_type": "stream",
     "text": [
      "Requirement already satisfied: wordcloud in /opt/anaconda3/lib/python3.11/site-packages (1.9.3)\n",
      "Requirement already satisfied: numpy>=1.6.1 in /opt/anaconda3/lib/python3.11/site-packages (from wordcloud) (1.26.4)\n",
      "Requirement already satisfied: pillow in /opt/anaconda3/lib/python3.11/site-packages (from wordcloud) (10.2.0)\n",
      "Requirement already satisfied: matplotlib in /opt/anaconda3/lib/python3.11/site-packages (from wordcloud) (3.8.0)\n",
      "Requirement already satisfied: contourpy>=1.0.1 in /opt/anaconda3/lib/python3.11/site-packages (from matplotlib->wordcloud) (1.2.0)\n",
      "Requirement already satisfied: cycler>=0.10 in /opt/anaconda3/lib/python3.11/site-packages (from matplotlib->wordcloud) (0.11.0)\n",
      "Requirement already satisfied: fonttools>=4.22.0 in /opt/anaconda3/lib/python3.11/site-packages (from matplotlib->wordcloud) (4.25.0)\n",
      "Requirement already satisfied: kiwisolver>=1.0.1 in /opt/anaconda3/lib/python3.11/site-packages (from matplotlib->wordcloud) (1.4.4)\n",
      "Requirement already satisfied: packaging>=20.0 in /opt/anaconda3/lib/python3.11/site-packages (from matplotlib->wordcloud) (23.1)\n",
      "Requirement already satisfied: pyparsing>=2.3.1 in /opt/anaconda3/lib/python3.11/site-packages (from matplotlib->wordcloud) (3.0.9)\n",
      "Requirement already satisfied: python-dateutil>=2.7 in /opt/anaconda3/lib/python3.11/site-packages (from matplotlib->wordcloud) (2.8.2)\n",
      "Requirement already satisfied: six>=1.5 in /opt/anaconda3/lib/python3.11/site-packages (from python-dateutil>=2.7->matplotlib->wordcloud) (1.16.0)\n"
     ]
    }
   ],
   "source": [
    "# Installing Wordcloud Package\n",
    "!pip install wordcloud"
   ]
  },
  {
   "cell_type": "markdown",
   "id": "5a503119-0428-4dad-9437-5a6115088307",
   "metadata": {},
   "source": [
    "## Creating WordCloud"
   ]
  },
  {
   "cell_type": "code",
   "execution_count": 72,
   "id": "7d4f1d26-b18b-49d0-9b6f-a80f10bb1f16",
   "metadata": {},
   "outputs": [
    {
     "data": {
      "image/png": "[encoded data removed]",
      "text/plain": [
       "<Figure size 800x800 with 1 Axes>"
      ]
     },
     "metadata": {},
     "output_type": "display_data"
    }
   ],
   "source": [
    "import matplotlib.pyplot as plt\n",
    "from wordcloud import WordCloud  # Import WordCloud class from the wordcloud library\n",
    "wc = WordCloud(background_color='Black', width = 300, height=300, max_words=100, margin=2) # Giving BackGround Colour .\n",
    "wc.fit_words(freq_df['freq'].to_dict() )\n",
    "plt.figure(figsize = (8, 8), facecolor = None) # Giving fig Size\n",
    "plt.imshow(wc)\n",
    "plt.axis(\"off\")\n",
    "plt.tight_layout(pad = 0)\n",
    "plt.show()"
   ]
  },
  {
   "cell_type": "markdown",
   "id": "8eb33826-1bfa-4616-9bfb-cffefb887913",
   "metadata": {},
   "source": [
    "## My style 😇 (ALL data)"
   ]
  },
  {
   "cell_type": "code",
   "execution_count": 74,
   "id": "ac7077b9-b223-4d02-9960-a8481ff1ab5a",
   "metadata": {},
   "outputs": [
    {
     "data": {
      "image/png": "[encoded data removed]",
      "text/plain": [
       "<Figure size 800x800 with 1 Axes>"
      ]
     },
     "metadata": {},
     "output_type": "display_data"
    }
   ],
   "source": [
    "from wordcloud import WordCloud  # Import the WordCloud class\n",
    "import matplotlib.pyplot as plt  # Import the pyplot module from matplotlib\n",
    "\n",
    "# Create a WordCloud object with specified parameters\n",
    "wc = WordCloud(\n",
    "    background_color='white',  # Set background color to white\n",
    "    width=300,                 # Set width of the word cloud image\n",
    "    height=300,                # Set height of the word cloud image\n",
    "    max_words=100,             # Maximum number of words to include in the word cloud\n",
    "    margin=2                   # Set margin between words\n",
    ")\n",
    "\n",
    "# Generate the word cloud using the frequency dictionary\n",
    "wc.fit_words(freq_df['freq'].to_dict())\n",
    "\n",
    "# Create a new figure for the plot with specified size and no specific background color\n",
    "plt.figure(figsize=(8, 8), facecolor=None)\n",
    "\n",
    "# Display the word cloud image\n",
    "plt.imshow(wc)\n",
    "\n",
    "# Turn off axis labels\n",
    "plt.axis(\"off\")\n",
    "\n",
    "# Adjust layout to eliminate extra whitespace\n",
    "plt.tight_layout(pad=0)\n",
    "\n",
    "# Show the plot\n",
    "plt.show()"
   ]
  }
 ],
 "metadata": {
  "kernelspec": {
   "display_name": "Python 3 (ipykernel)",
   "language": "python",
   "name": "python3"
  },
  "language_info": {
   "codemirror_mode": {
    "name": "ipython",
    "version": 3
   },
   "file_extension": ".py",
   "mimetype": "text/x-python",
   "name": "python",
   "nbconvert_exporter": "python",
   "pygments_lexer": "ipython3",
   "version": "3.11.7"
  }
 },
 "nbformat": 4,
 "nbformat_minor": 5
}
