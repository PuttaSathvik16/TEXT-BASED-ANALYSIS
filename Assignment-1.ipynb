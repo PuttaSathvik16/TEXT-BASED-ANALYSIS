{
 "cells": [
  {
   "cell_type": "code",
   "execution_count": 3,
   "id": "8f69ae40-f956-44b1-90ae-78da4790a645",
   "metadata": {},
   "outputs": [],
   "source": [
    "# Assignment - 1 4/6/2024"
   ]
  },
  {
   "cell_type": "code",
   "execution_count": 4,
   "id": "b5014948-f017-48f5-8ee6-00d0dcf1044a",
   "metadata": {},
   "outputs": [
    {
     "name": "stdout",
     "output_type": "stream",
     "text": [
      "putta\n"
     ]
    }
   ],
   "source": [
    "#Substring Extraction:\n",
    "# Original string\n",
    "string = \"sathvik,putta!\"\n",
    "# Extracting substring\n",
    "substring = string[8:13]\n",
    "print(substring)  # Output: putta"
   ]
  },
  {
   "cell_type": "code",
   "execution_count": 5,
   "id": "250085df-3d4d-4a11-91c2-7177301ce1aa",
   "metadata": {},
   "outputs": [
    {
     "name": "stdout",
     "output_type": "stream",
     "text": [
      "sathvik, putta!\n"
     ]
    }
   ],
   "source": [
    "# String Concatenation\n",
    "# Original strings\n",
    "str1 = \"sathvik\"\n",
    "str2 = \"putta\"\n",
    "# Concatenating strings\n",
    "concatenated_string = str1 + \", \" + str2 + \"!\"\n",
    "print(concatenated_string)  # Output: sathvik, putta!\n"
   ]
  },
  {
   "cell_type": "code",
   "execution_count": 6,
   "id": "d746fbef-3e8b-4e3f-9e5d-660359c35b7e",
   "metadata": {},
   "outputs": [
    {
     "name": "stdout",
     "output_type": "stream",
     "text": [
      "['fox', 'dog']\n"
     ]
    }
   ],
   "source": [
    "# Regular Expression (Regex) Match\n",
    "import re\n",
    "# Original string\n",
    "string = \"The quick brown fox jumps over the lazy dog\"\n",
    "# Pattern to match\n",
    "pattern = r\"fox|dog\"\n",
    "# Finding matches\n",
    "matches = re.findall(pattern, string)\n",
    "print(matches)  # Output: ['fox', 'dog']"
   ]
  },
  {
   "cell_type": "code",
   "execution_count": 7,
   "id": "cdffbd52-cff4-492b-8ecb-cb6a06a3690c",
   "metadata": {},
   "outputs": [
    {
     "name": "stdout",
     "output_type": "stream",
     "text": [
      "The quick brown cat jumps over the lazy dog\n"
     ]
    }
   ],
   "source": [
    "# String Replacement using Regex\n",
    "import re\n",
    "# Original string\n",
    "string = \"The quick brown fox jumps over the lazy dog\"\n",
    "# Pattern to find\n",
    "pattern = r\"\\bfox\\b\"\n",
    "# Replacing substring\n",
    "replaced_string = re.sub(pattern, \"cat\", string)\n",
    "print(replaced_string)  # Output: The quick brown cat jumps over the lazy dog"
   ]
  },
  {
   "cell_type": "code",
   "execution_count": 8,
   "id": "9921683e-5bba-4c69-9ec0-579ae121b09a",
   "metadata": {},
   "outputs": [
    {
     "name": "stdout",
     "output_type": "stream",
     "text": [
      "['apple', 'banana', 'orange', 'grape']\n"
     ]
    }
   ],
   "source": [
    "# String Splitting using Regex\n",
    "import re\n",
    "# Original string\n",
    "string = \"apple,banana,orange,grape\"\n",
    "# Pattern for splitting\n",
    "substrings = re.split(\",\", string)\n",
    "print(substrings)  # Output: ['apple', 'banana', 'orange', 'grape']"
   ]
  }
 ],
 "metadata": {
  "kernelspec": {
   "display_name": "Python 3 (ipykernel)",
   "language": "python",
   "name": "python3"
  },
  "language_info": {
   "codemirror_mode": {
    "name": "ipython",
    "version": 3
   },
   "file_extension": ".py",
   "mimetype": "text/x-python",
   "name": "python",
   "nbconvert_exporter": "python",
   "pygments_lexer": "ipython3",
   "version": "3.11.7"
  }
 },
 "nbformat": 4,
 "nbformat_minor": 5
}
