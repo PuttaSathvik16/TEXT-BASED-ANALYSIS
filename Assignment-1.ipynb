{
 "cells": [
  {
   "cell_type": "markdown",
   "id": "bc5229f1-6ebe-4bb2-bc98-6f714cbf9eef",
   "metadata": {},
   "source": [
    "## Assignment - 1 4/6/2024"
   ]
  },
  {
   "cell_type": "code",
   "execution_count": 1,
   "id": "a512eb15-b66f-45bd-b022-fd0b12b75fb3",
   "metadata": {},
   "outputs": [
    {
     "name": "stdout",
     "output_type": "stream",
     "text": [
      "putta\n"
     ]
    }
   ],
   "source": [
    "# Substring Extraction:\n",
    "# Original string\n",
    "string = \"sathvik,putta!\"\n",
    "# Extracting substring\n",
    "substring = string[8:13]\n",
    "print(substring)"
   ]
  },
  {
   "cell_type": "code",
   "execution_count": 4,
   "id": "0bc245e9-83b0-4b65-8fe1-71c6f05422e9",
   "metadata": {},
   "outputs": [
    {
     "name": "stdout",
     "output_type": "stream",
     "text": [
      "a\n"
     ]
    }
   ],
   "source": [
    "# String Manipulation \n",
    "a= \"Sathvik Putta!\"\n",
    "# Print the character at index 1 of the string 'a'. In Python, indexing starts from 0.\n",
    "# So, a[1] refers to the second character of the string.\n",
    "print(a[1])"
   ]
  },
  {
   "cell_type": "code",
   "execution_count": 5,
   "id": "62a65e4b-faba-4acd-be8f-6d7cc6379ab9",
   "metadata": {},
   "outputs": [
    {
     "name": "stdout",
     "output_type": "stream",
     "text": [
      "hvi\n"
     ]
    }
   ],
   "source": [
    "b = \"Sathvik Putta!\"\n",
    "# Print the substring of 'b' starting from index 3 up to, but not including, index 7.\n",
    "print(b[3:6])"
   ]
  },
  {
   "cell_type": "code",
   "execution_count": 2,
   "id": "08404c24-7968-4f17-90ab-9a79ede131ea",
   "metadata": {},
   "outputs": [
    {
     "name": "stdout",
     "output_type": "stream",
     "text": [
      "sathvik, putta!\n"
     ]
    }
   ],
   "source": [
    "# String Concatenation\n",
    "# Original strings\n",
    "str1 = \"sathvik\"\n",
    "str2 = \"putta\"\n",
    "# Concatenating strings\n",
    "concatenated_string = str1 + \", \" + str2 + \"!\"\n",
    "print(concatenated_string)"
   ]
  },
  {
   "cell_type": "code",
   "execution_count": 6,
   "id": "987d3155-c18e-4fa1-aaaa-17f6e8aa85c8",
   "metadata": {},
   "outputs": [
    {
     "name": "stdout",
     "output_type": "stream",
     "text": [
      "15\n",
      "SATHVIK, PUTTA!\n",
      "sathvik, putta!\n",
      "Pathvik, Putta!\n"
     ]
    }
   ],
   "source": [
    "# Example for upper, lower and replace\n",
    "\n",
    "a = \"Sathvik, Putta!\"\n",
    "# Print the length of the string 'a'\n",
    "print(len(a))\n",
    "# Convert the string 'a' to uppercase\n",
    "print(a.upper())\n",
    "# Convert the string 'a' to lowercase\n",
    "print(a.lower())\n",
    "# Replace all occurrences of the character 'W' with 'F' in the string 'a'\n",
    "print(a.replace(\"S\", \"P\"))"
   ]
  },
  {
   "cell_type": "code",
   "execution_count": 7,
   "id": "872670b6-4358-4fd9-9e6c-1aeee03c0b13",
   "metadata": {},
   "outputs": [
    {
     "name": "stdout",
     "output_type": "stream",
     "text": [
      "Sathvik Putta\n",
      "Sathvik Putta\n"
     ]
    }
   ],
   "source": [
    "t = \"Sathvik Putta\"\n",
    "# Remove leading whitespace characters from the string \"s\"\n",
    "stripped_text=t.lstrip()\n",
    "print(stripped_text)\n",
    "\n",
    "# Reassign the string \"## Text Based Analysis\" to the variable \"s\"\n",
    "t=\"#########Sathvik Putta\"\n",
    "# Remove leading '#' characters from the string \"s\"\n",
    "stripped_text=t.lstrip(\"#\")\n",
    "print(stripped_text)"
   ]
  },
  {
   "cell_type": "code",
   "execution_count": 11,
   "id": "3275f397-5fc9-46ae-a91b-9f15fbc39769",
   "metadata": {},
   "outputs": [
    {
     "name": "stdout",
     "output_type": "stream",
     "text": [
      "5\n",
      "0\n"
     ]
    }
   ],
   "source": [
    "# Example for find()\n",
    "t = \"Text Based Analysis\"\n",
    "# Find the index of the substring \"Based\" in the string 't\n",
    "index = t.find(\"Based\")\n",
    "print(index)\n",
    "\n",
    "# Example for find() with non-existing substring\n",
    "index = t.find(\"\")\n",
    "# Find the index of an empty substring in the string 't'\n",
    "print(index)"
   ]
  },
  {
   "cell_type": "code",
   "execution_count": 14,
   "id": "cdffbd52-cff4-492b-8ecb-cb6a06a3690c",
   "metadata": {},
   "outputs": [
    {
     "name": "stdout",
     "output_type": "stream",
     "text": [
      "The quick brown cat jumps over the lazy dog\n"
     ]
    }
   ],
   "source": [
    "# String Replacement using Regex\n",
    "import re\n",
    "# Original string\n",
    "string = \"The quick brown fox jumps over the lazy dog\"\n",
    "# Pattern to find\n",
    "pattern = r\"\\bfox\\b\"\n",
    "# Replacing substring\n",
    "replaced_string = re.sub(pattern, \"cat\", string)\n",
    "print(replaced_string)"
   ]
  },
  {
   "cell_type": "code",
   "execution_count": 3,
   "id": "ad9793cb-4979-417d-a0ea-5feb17c9cdb8",
   "metadata": {},
   "outputs": [
    {
     "name": "stdout",
     "output_type": "stream",
     "text": [
      "['fox', 'dog']\n"
     ]
    }
   ],
   "source": [
    "# Regular Expression (Regex) Match\n",
    "import re\n",
    "# Original string\n",
    "string = \"The quick brown fox jumps over the lazy dog\"\n",
    "# Pattern to match\n",
    "pattern = r\"fox|dog\"\n",
    "# Finding matches\n",
    "matches = re.findall(pattern, string)\n",
    "print(matches)"
   ]
  },
  {
   "cell_type": "code",
   "execution_count": 9,
   "id": "45d0ff76-bd6d-4fcd-a790-2b2b6e7a889c",
   "metadata": {},
   "outputs": [
    {
     "name": "stdout",
     "output_type": "stream",
     "text": [
      "['123-456-7890']\n"
     ]
    }
   ],
   "source": [
    "import re\n",
    "# Original string\n",
    "string = \"The phone number is 123-456-7890. Please call at that number.\"\n",
    "# Pattern to match\n",
    "pattern = r\"\\b\\d{3}-\\d{3}-\\d{4}\\b\"  # This pattern matches phone numbers in the format xxx-xxx-xxxx.\n",
    "# Finding matches\n",
    "matches = re.findall(pattern, string)\n",
    "# Print the matches\n",
    "print(matches)"
   ]
  },
  {
   "cell_type": "code",
   "execution_count": 10,
   "id": "2c73b8b2-7565-4b10-ba58-eabdcde5bca6",
   "metadata": {},
   "outputs": [
    {
     "name": "stdout",
     "output_type": "stream",
     "text": [
      "Found numerical values: ['.99', '', '', '']\n"
     ]
    }
   ],
   "source": [
    "import re\n",
    "# Original text containing numerical values\n",
    "text = \"The price of the product is $50.99. Offer valid till 2024-12-31.\"\n",
    "# Pattern to match numerical values (including decimal numbers and dates)\n",
    "pattern = r\"\\d+(\\.\\d+)?|\\d{4}-\\d{2}-\\d{2}\"\n",
    "# Finding numerical values\n",
    "numerical_values = re.findall(pattern, text)\n",
    "print(\"Found numerical values:\", numerical_values)"
   ]
  },
  {
   "cell_type": "code",
   "execution_count": 9,
   "id": "9921683e-5bba-4c69-9ec0-579ae121b09a",
   "metadata": {},
   "outputs": [
    {
     "name": "stdout",
     "output_type": "stream",
     "text": [
      "['apple', 'banana', 'orange', 'grape']\n"
     ]
    }
   ],
   "source": [
    "# String Splitting using Regex\n",
    "import re\n",
    "# Original string\n",
    "string = \"apple,banana,orange,grape\"\n",
    "# Pattern for splitting\n",
    "substrings = re.split(\",\", string)\n",
    "print(substrings)"
   ]
  }
 ],
 "metadata": {
  "kernelspec": {
   "display_name": "Python 3 (ipykernel)",
   "language": "python",
   "name": "python3"
  },
  "language_info": {
   "codemirror_mode": {
    "name": "ipython",
    "version": 3
   },
   "file_extension": ".py",
   "mimetype": "text/x-python",
   "name": "python",
   "nbconvert_exporter": "python",
   "pygments_lexer": "ipython3",
   "version": "3.11.7"
  }
 },
 "nbformat": 4,
 "nbformat_minor": 5
}
